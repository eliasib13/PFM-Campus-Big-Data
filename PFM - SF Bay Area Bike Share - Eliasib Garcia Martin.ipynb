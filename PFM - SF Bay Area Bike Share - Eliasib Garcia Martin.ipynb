{
 "cells": [
  {
   "cell_type": "markdown",
   "metadata": {},
   "source": [
    "# Proyecto Fin de Máster - Máster en Big Data y Business Analytics V Edición\n",
    "# Big Data International Campus - Universidad Europea Miguel de Cervantes\n",
    "\n",
    "### *Eliasib Jesús García Martín*\n",
    "---"
   ]
  },
  {
   "cell_type": "markdown",
   "metadata": {},
   "source": [
    "# 1. Introducción\n",
    "\n",
    "El propósito de este proyecto es el de crear un producto de datos que sigan las metodologías de análisis de datos que se han impartido a lo largo de este máster. \n",
    "\n",
    "Para ello, se ha propuesto como conjunto de datos (en adelante, dataset) sobre los que aplicar dicho análisis el conjunto sobre datos de uso de un sistema de alquiler de bicicletas en el área de la Bahía de San Francisco (SF Bay Area Bike Share - https://www.kaggle.com/benhamner/sf-bay-area-bike-share).\n",
    "\n",
    "En cuanto al análisis a realizar, se centrará en desarrollar, utilizando las metodologías más adecuadas, los siguientes puntos clave:\n",
    "* Investigar la influencia del tiempo atmosférico en los viajes en bicicletas registrados en el dataset.\n",
    "* Reconocer gracias un modelo de clasificación patrones en las rutas que realizan los usuarios, en función de las estaciones de origen y de destino en viajes realizados en horarios similares."
   ]
  },
  {
   "cell_type": "markdown",
   "metadata": {},
   "source": [
    "# 2. Carga de los datos y análisis descriptivo\n",
    "\n",
    "El dataset sobre el que se basa este proyecto está compuesto por cuatro registros de datos, en forma de ficheros CSV (Comma Separated Values). La información contenida en estos cuatro ficheros está interrelacionada, por lo que la unión de todos ellos conforma el conjunto completo de los datos.\n",
    "\n",
    "Los ficheros de los que se compone el dataset son:\n",
    "* **station.csv:** En este fichero se listan las estaciones donde los usuarios pueden alquilar y/o depositar las bicicletas. Las columas para cada registro son:\n",
    "    * **id** - Identificador del registro\n",
    "    * **name** -  Nombre de la estación\n",
    "    * **lat** - Latitud de la ubicación de la estación\n",
    "    * **lon** - Longitud de la ubicación de la estación\n",
    "    * **dock_count** - Número de plazas de bicicletas que puede alojar la estación\n",
    "    * **city** - Ciudad donde se encuentra la estación\n",
    "    * **installation_date** - Fecha de instalación de la estación\n",
    "\n",
    "\n",
    "* **weather.csv:** En este fichero se listan los datos del tiempo atmosférico registrados diariamente. Las columnas para cada registro son:\n",
    "    * **date** - Fecha del registro\n",
    "    * **max_temperature_f** - Temperatura máxima en grados Fahrenheit\n",
    "    * **mean_temperature_f** - Temperatura media en grados Fahrenheit\n",
    "    * **min_temperature_f** - Temperatura mínima en grados Fahrenheit\n",
    "    * **max_dew_point_f** - Temperatura máxima de rocío en grados Fahrenheit\n",
    "    * **mean_dew_point_f** - Temperatura media de rocío en grados Fahrenheit\n",
    "    * **min_dew_point_f** - Temperatura mínima de rocío en grados Fahrenheit\n",
    "    * **max_humidity** - Humedad máxima\n",
    "    * **mean_humidity** - Humedad media\n",
    "    * **min_humidity** - Humedad mínima\n",
    "    * **max_sea_level_pressure_inches** - Presión atmosférica máxima a nivel del mar en pulgadas de mercurio\n",
    "    * **mean_sea_level_pressure_inches** - Presión atmosférica media a nivel del mar en pulgadas de mercurio\n",
    "    * **min_sea_level_pressure_inches** - Presión atmosférica mínima a nivel del mar en pulgadas de mercurio\n",
    "    * **max_visibility_miles** - Visibilidad máxima en millas\n",
    "    * **mean_visibility_miles** - Visibilidad media en millas\n",
    "    * **min_visibility_miles** - Visibilidad mínima en millas\n",
    "    * **max_wind_speed_mph** - Velocidad máxima del viento en millas por hora\n",
    "    * **mean_wind_speed_mph** - Velocidad media del viento en millas por hora\n",
    "    * **min_wind_speed_mph** - Velocidad mínima del viento en millas por hora\n",
    "    * **precipitation_inches** - Precipitaciones en pulgadas\n",
    "    * **cloud_cover** - Nubosidad en octas\n",
    "    * **events** - Eventos atmosféricos (lluvia, niebla, tormenta...)\n",
    "    * **wind_dir_degrees** - Dirección del viento en grados\n",
    "    * **zip_code** - Código postal de la localización del registro\n",
    "\n",
    "\n",
    "* **trip.csv:** En este fichero se listan los viajes en bicicleta registrados. Las columnas para cada registro son:\n",
    "    * **id** - Identificador del registro\n",
    "    * **duration** - Duración del viaje en segundos\n",
    "    * **start_date** - Fecha y hora de inicio del viaje\n",
    "    * **start_station_name** - Nombre de la estación donde se inició el viaje\n",
    "    * **start_station_id** - Identificador de la estación donde se inició el viaje\n",
    "    * **end_date** - Fecha y hora de finalización del viaje\n",
    "    * **end_station_name** - Nombre de la estación donde se finalizó el viaje\n",
    "    * **end_station_id** - Identificador de la estación donde se finalizó el viaje\n",
    "    * **bike_id** - Identificador de la bicicleta utilizada para el viaje\n",
    "\n",
    "\n",
    "* **status.csv:** En este fichero se listan registros por minuto del estado de las estaciones. Las columnas para cada registro son:\n",
    "    * **station_id** - Identificador de la estación a la que se refiere el registro\n",
    "    * **bikes_available** - Número de bicicletas disponibles\n",
    "    * **docks_available** - Número de plazas de estacionamiento para bicicletas disponibles\n",
    "    * **time** - Fecha y hora del registro\n",
    "    \n"
   ]
  },
  {
   "cell_type": "markdown",
   "metadata": {},
   "source": [
    "Puesto que el dataset se encuentra alojado en Kaggle, debemos descargar los ficheros CSV que lo componen, pero para ello se requiere la creación de una cuenta gratuita en Kaggle. Una vez se ha accedido a la plataforma, se puede descargar el dataset comprimido en formato zip a través de este enlace: https://www.kaggle.com/benhamner/sf-bay-area-bike-share/downloads/sf-bay-area-bike-share.zip\n",
    "\n",
    "Una vez obtenido el fichero zip, para poder trabajar con los datos desde este notebook, se debe descomprimir los ficheros CSV bajo una carpeta `data/` relativa a la ruta donde se encuentre este notebook.\n",
    "\n",
    "También debe tenerse en cuenta que para la carga de datos se utiliza el paquete PySpark, por lo que debe estar instalado para que el siguiente código se ejecute correctamente."
   ]
  },
  {
   "cell_type": "code",
   "execution_count": 1,
   "metadata": {},
   "outputs": [],
   "source": [
    "from pyspark import SparkContext\n",
    "from pyspark.sql import SQLContext\n",
    "\n",
    "# Acessing to Spark and SQL contexts\n",
    "sc = SparkContext.getOrCreate()\n",
    "sqlContext = SQLContext.getOrCreate(sc)\n",
    "\n",
    "# Loading dataframes.\n",
    "# Options indicate that exist a header line and tries to infer the data type of each column\n",
    "station_df = sqlContext.read.csv('data/station.csv', header=True, inferSchema=True)\n",
    "weather_df = sqlContext.read.csv('data/weather.csv', header=True, inferSchema=True)\n",
    "trip_df = sqlContext.read.csv('data/trip.csv', header=True, inferSchema=True)\n",
    "status_df = sqlContext.read.csv('data/status.csv', header=True, inferSchema=True)"
   ]
  },
  {
   "cell_type": "markdown",
   "metadata": {},
   "source": [
    "La librería PySpark, gracias a su dependencia de Pandas, también facilita bastante el análisis descriptivo de los datos, con funciones que calculan y muestran de manera ordenada valiosa información sobre los DataFrames. Un ejemplo es la función `.describe()`, gracias a la cual pueden verse tabulados valores como el máximo, el mínimo, la media o la desviación típica, entre otros, de las variables numéricas de los DataFrames."
   ]
  },
  {
   "cell_type": "code",
   "execution_count": 2,
   "metadata": {},
   "outputs": [],
   "source": [
    "# Creating Pandas dataframe from PySpark's\n",
    "pd_station_df = station_df.toPandas()"
   ]
  },
  {
   "cell_type": "code",
   "execution_count": 3,
   "metadata": {},
   "outputs": [
    {
     "data": {
      "text/html": [
       "<div>\n",
       "<style scoped>\n",
       "    .dataframe tbody tr th:only-of-type {\n",
       "        vertical-align: middle;\n",
       "    }\n",
       "\n",
       "    .dataframe tbody tr th {\n",
       "        vertical-align: top;\n",
       "    }\n",
       "\n",
       "    .dataframe thead th {\n",
       "        text-align: right;\n",
       "    }\n",
       "</style>\n",
       "<table border=\"1\" class=\"dataframe\">\n",
       "  <thead>\n",
       "    <tr style=\"text-align: right;\">\n",
       "      <th></th>\n",
       "      <th>id</th>\n",
       "      <th>lat</th>\n",
       "      <th>long</th>\n",
       "      <th>dock_count</th>\n",
       "    </tr>\n",
       "  </thead>\n",
       "  <tbody>\n",
       "    <tr>\n",
       "      <th>count</th>\n",
       "      <td>70.000000</td>\n",
       "      <td>70.000000</td>\n",
       "      <td>70.000000</td>\n",
       "      <td>70.000000</td>\n",
       "    </tr>\n",
       "    <tr>\n",
       "      <th>mean</th>\n",
       "      <td>43.000000</td>\n",
       "      <td>37.590243</td>\n",
       "      <td>-122.218416</td>\n",
       "      <td>17.657143</td>\n",
       "    </tr>\n",
       "    <tr>\n",
       "      <th>std</th>\n",
       "      <td>24.166092</td>\n",
       "      <td>0.203473</td>\n",
       "      <td>0.209446</td>\n",
       "      <td>4.010442</td>\n",
       "    </tr>\n",
       "    <tr>\n",
       "      <th>min</th>\n",
       "      <td>2.000000</td>\n",
       "      <td>37.329732</td>\n",
       "      <td>-122.418954</td>\n",
       "      <td>11.000000</td>\n",
       "    </tr>\n",
       "    <tr>\n",
       "      <th>25%</th>\n",
       "      <td>24.250000</td>\n",
       "      <td>37.389483</td>\n",
       "      <td>-122.400601</td>\n",
       "      <td>15.000000</td>\n",
       "    </tr>\n",
       "    <tr>\n",
       "      <th>50%</th>\n",
       "      <td>43.500000</td>\n",
       "      <td>37.631163</td>\n",
       "      <td>-122.312123</td>\n",
       "      <td>15.000000</td>\n",
       "    </tr>\n",
       "    <tr>\n",
       "      <th>75%</th>\n",
       "      <td>63.750000</td>\n",
       "      <td>37.788123</td>\n",
       "      <td>-122.078009</td>\n",
       "      <td>19.000000</td>\n",
       "    </tr>\n",
       "    <tr>\n",
       "      <th>max</th>\n",
       "      <td>84.000000</td>\n",
       "      <td>37.804770</td>\n",
       "      <td>-121.877349</td>\n",
       "      <td>27.000000</td>\n",
       "    </tr>\n",
       "  </tbody>\n",
       "</table>\n",
       "</div>"
      ],
      "text/plain": [
       "              id        lat        long  dock_count\n",
       "count  70.000000  70.000000   70.000000   70.000000\n",
       "mean   43.000000  37.590243 -122.218416   17.657143\n",
       "std    24.166092   0.203473    0.209446    4.010442\n",
       "min     2.000000  37.329732 -122.418954   11.000000\n",
       "25%    24.250000  37.389483 -122.400601   15.000000\n",
       "50%    43.500000  37.631163 -122.312123   15.000000\n",
       "75%    63.750000  37.788123 -122.078009   19.000000\n",
       "max    84.000000  37.804770 -121.877349   27.000000"
      ]
     },
     "execution_count": 3,
     "metadata": {},
     "output_type": "execute_result"
    }
   ],
   "source": [
    "# Describing station DataFrame\n",
    "pd_station_df.describe()"
   ]
  },
  {
   "cell_type": "markdown",
   "metadata": {},
   "source": [
    "Como información relevante en el caso de las estaciones, se observa que con las latitudes y longitudes máximas y mínimas podríamos por ejemplo encuadrar en un mapa el área donde se situan la totalidad de las estaciones registradas. También puede ser útil conocer el número medio de plazas para bicicletas que hay en las estaciones, aunque habría que revisar si la desviación estándar es muy elevada, en cuyo caso la media no sería un valor muy significativo."
   ]
  },
  {
   "cell_type": "code",
   "execution_count": 4,
   "metadata": {},
   "outputs": [],
   "source": [
    "# Creating Pandas dataframe from PySpark's\n",
    "pd_weather_df = weather_df.toPandas()"
   ]
  },
  {
   "cell_type": "code",
   "execution_count": 5,
   "metadata": {},
   "outputs": [
    {
     "data": {
      "text/html": [
       "<div>\n",
       "<style scoped>\n",
       "    .dataframe tbody tr th:only-of-type {\n",
       "        vertical-align: middle;\n",
       "    }\n",
       "\n",
       "    .dataframe tbody tr th {\n",
       "        vertical-align: top;\n",
       "    }\n",
       "\n",
       "    .dataframe thead th {\n",
       "        text-align: right;\n",
       "    }\n",
       "</style>\n",
       "<table border=\"1\" class=\"dataframe\">\n",
       "  <thead>\n",
       "    <tr style=\"text-align: right;\">\n",
       "      <th></th>\n",
       "      <th>max_temperature_f</th>\n",
       "      <th>mean_temperature_f</th>\n",
       "      <th>min_temperature_f</th>\n",
       "      <th>max_dew_point_f</th>\n",
       "      <th>mean_dew_point_f</th>\n",
       "      <th>min_dew_point_f</th>\n",
       "      <th>max_humidity</th>\n",
       "      <th>mean_humidity</th>\n",
       "      <th>min_humidity</th>\n",
       "      <th>max_sea_level_pressure_inches</th>\n",
       "      <th>...</th>\n",
       "      <th>min_sea_level_pressure_inches</th>\n",
       "      <th>max_visibility_miles</th>\n",
       "      <th>mean_visibility_miles</th>\n",
       "      <th>min_visibility_miles</th>\n",
       "      <th>max_wind_Speed_mph</th>\n",
       "      <th>mean_wind_speed_mph</th>\n",
       "      <th>max_gust_speed_mph</th>\n",
       "      <th>cloud_cover</th>\n",
       "      <th>wind_dir_degrees</th>\n",
       "      <th>zip_code</th>\n",
       "    </tr>\n",
       "  </thead>\n",
       "  <tbody>\n",
       "    <tr>\n",
       "      <th>count</th>\n",
       "      <td>3661.000000</td>\n",
       "      <td>3661.000000</td>\n",
       "      <td>3661.000000</td>\n",
       "      <td>3611.000000</td>\n",
       "      <td>3611.000000</td>\n",
       "      <td>3611.000000</td>\n",
       "      <td>3611.000000</td>\n",
       "      <td>3611.000000</td>\n",
       "      <td>3611.000000</td>\n",
       "      <td>3664.000000</td>\n",
       "      <td>...</td>\n",
       "      <td>3664.000000</td>\n",
       "      <td>3652.000000</td>\n",
       "      <td>3652.000000</td>\n",
       "      <td>3652.000000</td>\n",
       "      <td>3664.000000</td>\n",
       "      <td>3664.000000</td>\n",
       "      <td>2766.000000</td>\n",
       "      <td>3664.000000</td>\n",
       "      <td>3664.000000</td>\n",
       "      <td>3665.000000</td>\n",
       "    </tr>\n",
       "    <tr>\n",
       "      <th>mean</th>\n",
       "      <td>70.580989</td>\n",
       "      <td>61.348812</td>\n",
       "      <td>51.947282</td>\n",
       "      <td>53.149820</td>\n",
       "      <td>48.794794</td>\n",
       "      <td>44.306840</td>\n",
       "      <td>85.446968</td>\n",
       "      <td>67.256993</td>\n",
       "      <td>46.458045</td>\n",
       "      <td>30.074997</td>\n",
       "      <td>...</td>\n",
       "      <td>29.965835</td>\n",
       "      <td>10.555312</td>\n",
       "      <td>9.822015</td>\n",
       "      <td>8.229737</td>\n",
       "      <td>16.398472</td>\n",
       "      <td>5.962063</td>\n",
       "      <td>22.299349</td>\n",
       "      <td>2.784389</td>\n",
       "      <td>266.605895</td>\n",
       "      <td>94325.000000</td>\n",
       "    </tr>\n",
       "    <tr>\n",
       "      <th>std</th>\n",
       "      <td>8.385572</td>\n",
       "      <td>7.234397</td>\n",
       "      <td>7.441444</td>\n",
       "      <td>6.885449</td>\n",
       "      <td>7.822281</td>\n",
       "      <td>9.355432</td>\n",
       "      <td>9.226972</td>\n",
       "      <td>10.945591</td>\n",
       "      <td>14.434784</td>\n",
       "      <td>0.134492</td>\n",
       "      <td>...</td>\n",
       "      <td>0.133476</td>\n",
       "      <td>2.193828</td>\n",
       "      <td>1.469894</td>\n",
       "      <td>2.862132</td>\n",
       "      <td>7.787588</td>\n",
       "      <td>3.340603</td>\n",
       "      <td>9.618813</td>\n",
       "      <td>2.276401</td>\n",
       "      <td>102.047645</td>\n",
       "      <td>404.615212</td>\n",
       "    </tr>\n",
       "    <tr>\n",
       "      <th>min</th>\n",
       "      <td>44.000000</td>\n",
       "      <td>38.000000</td>\n",
       "      <td>25.000000</td>\n",
       "      <td>20.000000</td>\n",
       "      <td>13.000000</td>\n",
       "      <td>2.000000</td>\n",
       "      <td>24.000000</td>\n",
       "      <td>24.000000</td>\n",
       "      <td>4.000000</td>\n",
       "      <td>29.500000</td>\n",
       "      <td>...</td>\n",
       "      <td>28.980000</td>\n",
       "      <td>5.000000</td>\n",
       "      <td>4.000000</td>\n",
       "      <td>0.000000</td>\n",
       "      <td>0.000000</td>\n",
       "      <td>0.000000</td>\n",
       "      <td>6.000000</td>\n",
       "      <td>0.000000</td>\n",
       "      <td>0.000000</td>\n",
       "      <td>94041.000000</td>\n",
       "    </tr>\n",
       "    <tr>\n",
       "      <th>25%</th>\n",
       "      <td>64.000000</td>\n",
       "      <td>56.000000</td>\n",
       "      <td>47.000000</td>\n",
       "      <td>49.000000</td>\n",
       "      <td>44.000000</td>\n",
       "      <td>39.000000</td>\n",
       "      <td>82.000000</td>\n",
       "      <td>62.000000</td>\n",
       "      <td>37.000000</td>\n",
       "      <td>29.980000</td>\n",
       "      <td>...</td>\n",
       "      <td>29.880000</td>\n",
       "      <td>10.000000</td>\n",
       "      <td>10.000000</td>\n",
       "      <td>7.000000</td>\n",
       "      <td>13.000000</td>\n",
       "      <td>3.000000</td>\n",
       "      <td>17.000000</td>\n",
       "      <td>1.000000</td>\n",
       "      <td>254.000000</td>\n",
       "      <td>94063.000000</td>\n",
       "    </tr>\n",
       "    <tr>\n",
       "      <th>50%</th>\n",
       "      <td>70.000000</td>\n",
       "      <td>61.000000</td>\n",
       "      <td>53.000000</td>\n",
       "      <td>54.000000</td>\n",
       "      <td>49.000000</td>\n",
       "      <td>46.000000</td>\n",
       "      <td>86.000000</td>\n",
       "      <td>68.000000</td>\n",
       "      <td>48.000000</td>\n",
       "      <td>30.060000</td>\n",
       "      <td>...</td>\n",
       "      <td>29.950000</td>\n",
       "      <td>10.000000</td>\n",
       "      <td>10.000000</td>\n",
       "      <td>10.000000</td>\n",
       "      <td>16.000000</td>\n",
       "      <td>6.000000</td>\n",
       "      <td>22.000000</td>\n",
       "      <td>3.000000</td>\n",
       "      <td>297.000000</td>\n",
       "      <td>94107.000000</td>\n",
       "    </tr>\n",
       "    <tr>\n",
       "      <th>75%</th>\n",
       "      <td>77.000000</td>\n",
       "      <td>67.000000</td>\n",
       "      <td>58.000000</td>\n",
       "      <td>58.000000</td>\n",
       "      <td>55.000000</td>\n",
       "      <td>52.000000</td>\n",
       "      <td>93.000000</td>\n",
       "      <td>74.000000</td>\n",
       "      <td>56.000000</td>\n",
       "      <td>30.170000</td>\n",
       "      <td>...</td>\n",
       "      <td>30.050000</td>\n",
       "      <td>10.000000</td>\n",
       "      <td>10.000000</td>\n",
       "      <td>10.000000</td>\n",
       "      <td>20.000000</td>\n",
       "      <td>8.000000</td>\n",
       "      <td>25.000000</td>\n",
       "      <td>5.000000</td>\n",
       "      <td>330.000000</td>\n",
       "      <td>94301.000000</td>\n",
       "    </tr>\n",
       "    <tr>\n",
       "      <th>max</th>\n",
       "      <td>102.000000</td>\n",
       "      <td>84.000000</td>\n",
       "      <td>75.000000</td>\n",
       "      <td>68.000000</td>\n",
       "      <td>65.000000</td>\n",
       "      <td>63.000000</td>\n",
       "      <td>100.000000</td>\n",
       "      <td>96.000000</td>\n",
       "      <td>93.000000</td>\n",
       "      <td>30.650000</td>\n",
       "      <td>...</td>\n",
       "      <td>30.370000</td>\n",
       "      <td>20.000000</td>\n",
       "      <td>20.000000</td>\n",
       "      <td>20.000000</td>\n",
       "      <td>128.000000</td>\n",
       "      <td>23.000000</td>\n",
       "      <td>114.000000</td>\n",
       "      <td>8.000000</td>\n",
       "      <td>2772.000000</td>\n",
       "      <td>95113.000000</td>\n",
       "    </tr>\n",
       "  </tbody>\n",
       "</table>\n",
       "<p>8 rows × 21 columns</p>\n",
       "</div>"
      ],
      "text/plain": [
       "       max_temperature_f  mean_temperature_f  min_temperature_f  \\\n",
       "count        3661.000000         3661.000000        3661.000000   \n",
       "mean           70.580989           61.348812          51.947282   \n",
       "std             8.385572            7.234397           7.441444   \n",
       "min            44.000000           38.000000          25.000000   \n",
       "25%            64.000000           56.000000          47.000000   \n",
       "50%            70.000000           61.000000          53.000000   \n",
       "75%            77.000000           67.000000          58.000000   \n",
       "max           102.000000           84.000000          75.000000   \n",
       "\n",
       "       max_dew_point_f  mean_dew_point_f  min_dew_point_f  max_humidity  \\\n",
       "count      3611.000000       3611.000000      3611.000000   3611.000000   \n",
       "mean         53.149820         48.794794        44.306840     85.446968   \n",
       "std           6.885449          7.822281         9.355432      9.226972   \n",
       "min          20.000000         13.000000         2.000000     24.000000   \n",
       "25%          49.000000         44.000000        39.000000     82.000000   \n",
       "50%          54.000000         49.000000        46.000000     86.000000   \n",
       "75%          58.000000         55.000000        52.000000     93.000000   \n",
       "max          68.000000         65.000000        63.000000    100.000000   \n",
       "\n",
       "       mean_humidity  min_humidity  max_sea_level_pressure_inches  ...  \\\n",
       "count    3611.000000   3611.000000                    3664.000000  ...   \n",
       "mean       67.256993     46.458045                      30.074997  ...   \n",
       "std        10.945591     14.434784                       0.134492  ...   \n",
       "min        24.000000      4.000000                      29.500000  ...   \n",
       "25%        62.000000     37.000000                      29.980000  ...   \n",
       "50%        68.000000     48.000000                      30.060000  ...   \n",
       "75%        74.000000     56.000000                      30.170000  ...   \n",
       "max        96.000000     93.000000                      30.650000  ...   \n",
       "\n",
       "       min_sea_level_pressure_inches  max_visibility_miles  \\\n",
       "count                    3664.000000           3652.000000   \n",
       "mean                       29.965835             10.555312   \n",
       "std                         0.133476              2.193828   \n",
       "min                        28.980000              5.000000   \n",
       "25%                        29.880000             10.000000   \n",
       "50%                        29.950000             10.000000   \n",
       "75%                        30.050000             10.000000   \n",
       "max                        30.370000             20.000000   \n",
       "\n",
       "       mean_visibility_miles  min_visibility_miles  max_wind_Speed_mph  \\\n",
       "count            3652.000000           3652.000000         3664.000000   \n",
       "mean                9.822015              8.229737           16.398472   \n",
       "std                 1.469894              2.862132            7.787588   \n",
       "min                 4.000000              0.000000            0.000000   \n",
       "25%                10.000000              7.000000           13.000000   \n",
       "50%                10.000000             10.000000           16.000000   \n",
       "75%                10.000000             10.000000           20.000000   \n",
       "max                20.000000             20.000000          128.000000   \n",
       "\n",
       "       mean_wind_speed_mph  max_gust_speed_mph  cloud_cover  wind_dir_degrees  \\\n",
       "count          3664.000000         2766.000000  3664.000000       3664.000000   \n",
       "mean              5.962063           22.299349     2.784389        266.605895   \n",
       "std               3.340603            9.618813     2.276401        102.047645   \n",
       "min               0.000000            6.000000     0.000000          0.000000   \n",
       "25%               3.000000           17.000000     1.000000        254.000000   \n",
       "50%               6.000000           22.000000     3.000000        297.000000   \n",
       "75%               8.000000           25.000000     5.000000        330.000000   \n",
       "max              23.000000          114.000000     8.000000       2772.000000   \n",
       "\n",
       "           zip_code  \n",
       "count   3665.000000  \n",
       "mean   94325.000000  \n",
       "std      404.615212  \n",
       "min    94041.000000  \n",
       "25%    94063.000000  \n",
       "50%    94107.000000  \n",
       "75%    94301.000000  \n",
       "max    95113.000000  \n",
       "\n",
       "[8 rows x 21 columns]"
      ]
     },
     "execution_count": 5,
     "metadata": {},
     "output_type": "execute_result"
    }
   ],
   "source": [
    "# Describing weather DataFrame\n",
    "pd_weather_df.describe()"
   ]
  },
  {
   "cell_type": "markdown",
   "metadata": {},
   "source": [
    "En el caso de las temperaturas registradas, la propia estructura de los datos ya separaba la mayoría de su información por valores máximos, medios y mínimos, pero la aplicación de la función `.describe()` sobre este DataFrame también arroja nuevo datos interesantes, cómo cuáles fueron los valores de temperatura, humedad, presión atmosférica, velocidad del viento etc. máximos y mínimos alcanzados durante el tiempo que se registraron datos. También podemos comprobar gracias al cálculo de la desviación estándar y a su pequeño valor que el componente con menor variación en los registros fue el de la presión atmosférica."
   ]
  },
  {
   "cell_type": "code",
   "execution_count": 6,
   "metadata": {},
   "outputs": [],
   "source": [
    "# Creating Pandas dataframe from PySpark's\n",
    "pd_trip_df = trip_df.toPandas()"
   ]
  },
  {
   "cell_type": "code",
   "execution_count": 7,
   "metadata": {},
   "outputs": [
    {
     "data": {
      "text/html": [
       "<div>\n",
       "<style scoped>\n",
       "    .dataframe tbody tr th:only-of-type {\n",
       "        vertical-align: middle;\n",
       "    }\n",
       "\n",
       "    .dataframe tbody tr th {\n",
       "        vertical-align: top;\n",
       "    }\n",
       "\n",
       "    .dataframe thead th {\n",
       "        text-align: right;\n",
       "    }\n",
       "</style>\n",
       "<table border=\"1\" class=\"dataframe\">\n",
       "  <thead>\n",
       "    <tr style=\"text-align: right;\">\n",
       "      <th></th>\n",
       "      <th>id</th>\n",
       "      <th>duration</th>\n",
       "      <th>start_station_id</th>\n",
       "      <th>end_station_id</th>\n",
       "      <th>bike_id</th>\n",
       "    </tr>\n",
       "  </thead>\n",
       "  <tbody>\n",
       "    <tr>\n",
       "      <th>count</th>\n",
       "      <td>669959.000000</td>\n",
       "      <td>6.699590e+05</td>\n",
       "      <td>669959.000000</td>\n",
       "      <td>669959.000000</td>\n",
       "      <td>669959.000000</td>\n",
       "    </tr>\n",
       "    <tr>\n",
       "      <th>mean</th>\n",
       "      <td>460382.009899</td>\n",
       "      <td>1.107950e+03</td>\n",
       "      <td>57.851876</td>\n",
       "      <td>57.837438</td>\n",
       "      <td>427.587620</td>\n",
       "    </tr>\n",
       "    <tr>\n",
       "      <th>std</th>\n",
       "      <td>264584.458487</td>\n",
       "      <td>2.225544e+04</td>\n",
       "      <td>17.112474</td>\n",
       "      <td>17.200142</td>\n",
       "      <td>153.450988</td>\n",
       "    </tr>\n",
       "    <tr>\n",
       "      <th>min</th>\n",
       "      <td>4069.000000</td>\n",
       "      <td>6.000000e+01</td>\n",
       "      <td>2.000000</td>\n",
       "      <td>2.000000</td>\n",
       "      <td>9.000000</td>\n",
       "    </tr>\n",
       "    <tr>\n",
       "      <th>25%</th>\n",
       "      <td>231082.500000</td>\n",
       "      <td>3.440000e+02</td>\n",
       "      <td>50.000000</td>\n",
       "      <td>50.000000</td>\n",
       "      <td>334.000000</td>\n",
       "    </tr>\n",
       "    <tr>\n",
       "      <th>50%</th>\n",
       "      <td>459274.000000</td>\n",
       "      <td>5.170000e+02</td>\n",
       "      <td>62.000000</td>\n",
       "      <td>62.000000</td>\n",
       "      <td>440.000000</td>\n",
       "    </tr>\n",
       "    <tr>\n",
       "      <th>75%</th>\n",
       "      <td>692601.000000</td>\n",
       "      <td>7.550000e+02</td>\n",
       "      <td>70.000000</td>\n",
       "      <td>70.000000</td>\n",
       "      <td>546.000000</td>\n",
       "    </tr>\n",
       "    <tr>\n",
       "      <th>max</th>\n",
       "      <td>913460.000000</td>\n",
       "      <td>1.727040e+07</td>\n",
       "      <td>84.000000</td>\n",
       "      <td>84.000000</td>\n",
       "      <td>878.000000</td>\n",
       "    </tr>\n",
       "  </tbody>\n",
       "</table>\n",
       "</div>"
      ],
      "text/plain": [
       "                  id      duration  start_station_id  end_station_id  \\\n",
       "count  669959.000000  6.699590e+05     669959.000000   669959.000000   \n",
       "mean   460382.009899  1.107950e+03         57.851876       57.837438   \n",
       "std    264584.458487  2.225544e+04         17.112474       17.200142   \n",
       "min      4069.000000  6.000000e+01          2.000000        2.000000   \n",
       "25%    231082.500000  3.440000e+02         50.000000       50.000000   \n",
       "50%    459274.000000  5.170000e+02         62.000000       62.000000   \n",
       "75%    692601.000000  7.550000e+02         70.000000       70.000000   \n",
       "max    913460.000000  1.727040e+07         84.000000       84.000000   \n",
       "\n",
       "             bike_id  \n",
       "count  669959.000000  \n",
       "mean      427.587620  \n",
       "std       153.450988  \n",
       "min         9.000000  \n",
       "25%       334.000000  \n",
       "50%       440.000000  \n",
       "75%       546.000000  \n",
       "max       878.000000  "
      ]
     },
     "execution_count": 7,
     "metadata": {},
     "output_type": "execute_result"
    }
   ],
   "source": [
    "# Describing trip DataFrame\n",
    "pd_trip_df.describe()"
   ]
  },
  {
   "cell_type": "markdown",
   "metadata": {},
   "source": [
    "En el caso de los viajes registrados, la única variable no categórica, y por tanto de la que podemos extraer información con la función `.describe()`, es la duración de los viajes en segundos, y resulta algo incómodo ver valores con exponentes. Por ello, se puede aplicar una transformación sobre los datos para obtener estos valores de duración en minutos y facilitar la observación de los valores de esta variable."
   ]
  },
  {
   "cell_type": "code",
   "execution_count": 8,
   "metadata": {},
   "outputs": [],
   "source": [
    "# Adding a new column to trip Pandas DataFrame, calculating per each 'duration' value its equivalence in minutes.\n",
    "pd_trip_df['duration_minutes'] = pd_trip_df['duration'] / 60.0"
   ]
  },
  {
   "cell_type": "code",
   "execution_count": 9,
   "metadata": {},
   "outputs": [
    {
     "data": {
      "text/html": [
       "<div>\n",
       "<style scoped>\n",
       "    .dataframe tbody tr th:only-of-type {\n",
       "        vertical-align: middle;\n",
       "    }\n",
       "\n",
       "    .dataframe tbody tr th {\n",
       "        vertical-align: top;\n",
       "    }\n",
       "\n",
       "    .dataframe thead th {\n",
       "        text-align: right;\n",
       "    }\n",
       "</style>\n",
       "<table border=\"1\" class=\"dataframe\">\n",
       "  <thead>\n",
       "    <tr style=\"text-align: right;\">\n",
       "      <th></th>\n",
       "      <th>id</th>\n",
       "      <th>duration</th>\n",
       "      <th>start_station_id</th>\n",
       "      <th>end_station_id</th>\n",
       "      <th>bike_id</th>\n",
       "      <th>duration_minutes</th>\n",
       "    </tr>\n",
       "  </thead>\n",
       "  <tbody>\n",
       "    <tr>\n",
       "      <th>count</th>\n",
       "      <td>669959.000000</td>\n",
       "      <td>6.699590e+05</td>\n",
       "      <td>669959.000000</td>\n",
       "      <td>669959.000000</td>\n",
       "      <td>669959.000000</td>\n",
       "      <td>669959.000000</td>\n",
       "    </tr>\n",
       "    <tr>\n",
       "      <th>mean</th>\n",
       "      <td>460382.009899</td>\n",
       "      <td>1.107950e+03</td>\n",
       "      <td>57.851876</td>\n",
       "      <td>57.837438</td>\n",
       "      <td>427.587620</td>\n",
       "      <td>18.465831</td>\n",
       "    </tr>\n",
       "    <tr>\n",
       "      <th>std</th>\n",
       "      <td>264584.458487</td>\n",
       "      <td>2.225544e+04</td>\n",
       "      <td>17.112474</td>\n",
       "      <td>17.200142</td>\n",
       "      <td>153.450988</td>\n",
       "      <td>370.923950</td>\n",
       "    </tr>\n",
       "    <tr>\n",
       "      <th>min</th>\n",
       "      <td>4069.000000</td>\n",
       "      <td>6.000000e+01</td>\n",
       "      <td>2.000000</td>\n",
       "      <td>2.000000</td>\n",
       "      <td>9.000000</td>\n",
       "      <td>1.000000</td>\n",
       "    </tr>\n",
       "    <tr>\n",
       "      <th>25%</th>\n",
       "      <td>231082.500000</td>\n",
       "      <td>3.440000e+02</td>\n",
       "      <td>50.000000</td>\n",
       "      <td>50.000000</td>\n",
       "      <td>334.000000</td>\n",
       "      <td>5.733333</td>\n",
       "    </tr>\n",
       "    <tr>\n",
       "      <th>50%</th>\n",
       "      <td>459274.000000</td>\n",
       "      <td>5.170000e+02</td>\n",
       "      <td>62.000000</td>\n",
       "      <td>62.000000</td>\n",
       "      <td>440.000000</td>\n",
       "      <td>8.616667</td>\n",
       "    </tr>\n",
       "    <tr>\n",
       "      <th>75%</th>\n",
       "      <td>692601.000000</td>\n",
       "      <td>7.550000e+02</td>\n",
       "      <td>70.000000</td>\n",
       "      <td>70.000000</td>\n",
       "      <td>546.000000</td>\n",
       "      <td>12.583333</td>\n",
       "    </tr>\n",
       "    <tr>\n",
       "      <th>max</th>\n",
       "      <td>913460.000000</td>\n",
       "      <td>1.727040e+07</td>\n",
       "      <td>84.000000</td>\n",
       "      <td>84.000000</td>\n",
       "      <td>878.000000</td>\n",
       "      <td>287840.000000</td>\n",
       "    </tr>\n",
       "  </tbody>\n",
       "</table>\n",
       "</div>"
      ],
      "text/plain": [
       "                  id      duration  start_station_id  end_station_id  \\\n",
       "count  669959.000000  6.699590e+05     669959.000000   669959.000000   \n",
       "mean   460382.009899  1.107950e+03         57.851876       57.837438   \n",
       "std    264584.458487  2.225544e+04         17.112474       17.200142   \n",
       "min      4069.000000  6.000000e+01          2.000000        2.000000   \n",
       "25%    231082.500000  3.440000e+02         50.000000       50.000000   \n",
       "50%    459274.000000  5.170000e+02         62.000000       62.000000   \n",
       "75%    692601.000000  7.550000e+02         70.000000       70.000000   \n",
       "max    913460.000000  1.727040e+07         84.000000       84.000000   \n",
       "\n",
       "             bike_id  duration_minutes  \n",
       "count  669959.000000     669959.000000  \n",
       "mean      427.587620         18.465831  \n",
       "std       153.450988        370.923950  \n",
       "min         9.000000          1.000000  \n",
       "25%       334.000000          5.733333  \n",
       "50%       440.000000          8.616667  \n",
       "75%       546.000000         12.583333  \n",
       "max       878.000000     287840.000000  "
      ]
     },
     "execution_count": 9,
     "metadata": {},
     "output_type": "execute_result"
    }
   ],
   "source": [
    "# Describing trip DataFrame\n",
    "pd_trip_df.describe()"
   ]
  },
  {
   "cell_type": "markdown",
   "metadata": {},
   "source": [
    "Tras añadir una nueva columna con la duración de los viajes expresados en minutos, se ha clarificado la información sobre la duración de los viajes registrados, aunque por ejemplo, el valor tan elevado de la desviación estándar indica que la media no es un buen valor sobre el que apoyarse. Otro dato llamativo es que el viaje de mayor duración se ha extendido por 287840 minutos, lo que a la conversión suponen más de seis meses y medio."
   ]
  },
  {
   "cell_type": "markdown",
   "metadata": {},
   "source": [
    "Dada la gran cantidad de datos existentes referidos al estado de las estaciones, se omitirá el paso de transformar el DataFrame de PySpark a un DataFrame de Pandas, por riesgo a producir un fallo por falta de memoria. En su lugar, se presentará el análisis descriptivo directamente a través del DataFrame de PySpark, que tiene un aspecto visual algo más tosco."
   ]
  },
  {
   "cell_type": "code",
   "execution_count": 10,
   "metadata": {},
   "outputs": [
    {
     "name": "stdout",
     "output_type": "stream",
     "text": [
      "+-------+------------------+------------------+-----------------+-------------------+\n",
      "|summary|        station_id|   bikes_available|  docks_available|               time|\n",
      "+-------+------------------+------------------+-----------------+-------------------+\n",
      "|  count|          71984434|          71984434|         71984434|           71984434|\n",
      "|   mean| 42.53148689062416| 8.394812467373155|9.284729459705135|               null|\n",
      "| stddev|23.761171622501745|3.9935858965709334|4.175441561132945|               null|\n",
      "|    min|                 2|                 0|                0|2013/08/29 12:06:01|\n",
      "|    max|                84|                27|               27|2015-08-31 23:59:02|\n",
      "+-------+------------------+------------------+-----------------+-------------------+\n",
      "\n"
     ]
    }
   ],
   "source": [
    "# Describing status DataFrame\n",
    "status_df.describe().show()"
   ]
  },
  {
   "cell_type": "markdown",
   "metadata": {},
   "source": [
    "Por último, en cuanto al estado de las estaciones, a nivel descriptivo los datos recogidos no aportan mucha información relevante, pero ha de comprenderse que el valor de los datos recogidos en este DataFrame radica en su variación en el tiempo, y no en los valores de los datos por sí solos."
   ]
  },
  {
   "cell_type": "markdown",
   "metadata": {},
   "source": [
    "# 3. Análisis exploratorio apoyado en algún método no supervisado\n",
    "\n",
    "En este apartado, el análisis exploratorio escogido analizará la influencia de las variables relacionadas con el tiempo meteorológico en el número de viajes que se realizan partiendo de una estación concreta.\n",
    "\n",
    "Para ello, son necesarias algunas transformaciones sobre los datos, de forma que se selecciona la información necesaria para agrupar el conjunto de datos meteorológicos y su asociación con una estación, según la cantidad de viajes que se realizan en dichas condiciones."
   ]
  },
  {
   "cell_type": "markdown",
   "metadata": {},
   "source": [
    "Primeramente, es necesario conocer cuántos viajes se realizan diariamente partiendo de las diferentes estaciones. Una vez se conozca este número de viajes, seleccionando los valores máximo y mínimos, se pueden establecer los rangos por los que se clasificará cada estación, según se hayan realizado un número bajo, normal o alto de viajes."
   ]
  },
  {
   "cell_type": "code",
   "execution_count": 11,
   "metadata": {},
   "outputs": [
    {
     "name": "stdout",
     "output_type": "stream",
     "text": [
      "Min. trips in a day: 1\n",
      "Max. trips in a day: 145\n",
      "Range changes at 49 units.\n",
      "+----------+----------------+--------------------+-------+----------------+\n",
      "|start_date|start_station_id|  start_station_name|n_trips|n_trips_category|\n",
      "+----------+----------------+--------------------+-------+----------------+\n",
      "|2013-08-31|              35|University and Em...|     11|             Low|\n",
      "|2013-09-03|              72|Civic Center BART...|     17|             Low|\n",
      "|2013-09-12|               7|Paseo de San Antonio|      4|             Low|\n",
      "|2013-09-13|              57|       5th at Howard|     10|             Low|\n",
      "|2013-09-16|              38|       Park at Olive|      1|             Low|\n",
      "|2013-09-24|              55|Temporary Transba...|     42|             Low|\n",
      "|2013-10-31|              66|South Van Ness at...|     21|             Low|\n",
      "|2013-10-31|              67|      Market at 10th|     29|             Low|\n",
      "|2013-11-04|              29|San Antonio Caltr...|      1|             Low|\n",
      "|2013-11-15|              50|Harry Bridges Pla...|     49|          Medium|\n",
      "+----------+----------------+--------------------+-------+----------------+\n",
      "only showing top 10 rows\n",
      "\n"
     ]
    }
   ],
   "source": [
    "import numpy as np\n",
    "from pyspark.sql.functions import to_timestamp, col, udf, max, min\n",
    "from pyspark.sql.types import StringType\n",
    "\n",
    "# Get a copy of trip dataframe, with start and end datetimes parsed to just date\n",
    "trip_df_parsed_dates = trip_df.withColumn('start_date', to_timestamp(trip_df.start_date, 'MM/dd/yyyy HH:mm').cast('date')) \\\n",
    ".withColumn('end_date', to_timestamp(trip_df.end_date, 'MM/dd/yyyy HH:mm').cast('date'))\n",
    "\n",
    "# Get a dataframe with the number of trips registered per day per station\n",
    "trips_perDay_perStation_df = trip_df_parsed_dates.groupBy(['start_date', 'start_station_name', 'start_station_id']).count() \\\n",
    ".select('start_date', 'start_station_id', 'start_station_name', col('count').alias('n_trips'))\n",
    "\n",
    "# Get the maximum and minimum n_trips in a day\n",
    "maxTrips = trips_perDay_perStation_df.select(max('n_trips').alias('max')).collect()[0].max\n",
    "minTrips = trips_perDay_perStation_df.select(min('n_trips').alias('min')).collect()[0].min\n",
    "print(\"Min. trips in a day: \" + str(minTrips))\n",
    "print(\"Max. trips in a day: \" + str(maxTrips))\n",
    "\n",
    "# Get the range change value\n",
    "n_trips_groups = 3\n",
    "rangeIndicator = ((maxTrips - minTrips) / n_trips_groups) + minTrips\n",
    "print(\"Range changes at \" + str(rangeIndicator) + \" units.\")\n",
    "\n",
    "# Define function to classify a number of trips into a category\n",
    "def categorizeTrips(n_trips):\n",
    "    categories = ['', 'Low', 'Medium', 'High']\n",
    "    for multiplier in range(1, n_trips_groups + 1):\n",
    "        print n_trips\n",
    "        if (n_trips < rangeIndicator * multiplier):\n",
    "            return categories[multiplier]\n",
    "        \n",
    "    return 'High'\n",
    "\n",
    "# Classify each registry on trips_perDay_perStation_df\n",
    "categorizeTrips_udf = udf(categorizeTrips, StringType()) # Spark UserDefinedFunction\n",
    "trips_perDay_perStation_classified_df = trips_perDay_perStation_df \\\n",
    ".withColumn('n_trips_category', categorizeTrips_udf(trips_perDay_perStation_df.n_trips))\n",
    "\n",
    "# Show some random rows of the new dataframe\n",
    "trips_perDay_perStation_classified_df.sample(0.2).show(10)"
   ]
  },
  {
   "cell_type": "markdown",
   "metadata": {},
   "source": [
    "A continuación, se seleccionan los valores relevantes relacionados con el tiempo atmosférico. Se tomarán las columnas con valores medios para simplificar el dataframe resultante. Además, se precisa de algunas transformaciones intermedias, puesto que en el dataframe sobre el tiempo atmosférico, aparecen datos respectivos a diversos códigos postales, por lo que debemos relacionar cada estación con su correspondiente código postal, a partir de la ciudad donde se encuentran."
   ]
  },
  {
   "cell_type": "markdown",
   "metadata": {},
   "source": [
    "Consultando el número de ciudades diferentes que aparecen en los datos sobre las estaciones, y los diferentes código postales que aparecen en los datos sobre meteorología, encontramos que existe el mismo número de ciudades que de códigos postales, por lo que realizando una búsqueda por internet se puede relacionar los códigos postales con las ciudades a las que representan."
   ]
  },
  {
   "cell_type": "code",
   "execution_count": 12,
   "metadata": {},
   "outputs": [
    {
     "name": "stdout",
     "output_type": "stream",
     "text": [
      "+--------+\n",
      "|zip_code|\n",
      "+--------+\n",
      "|   94041|\n",
      "|   94107|\n",
      "|   94063|\n",
      "|   95113|\n",
      "|   94301|\n",
      "+--------+\n",
      "\n",
      "+-------------+\n",
      "|         city|\n",
      "+-------------+\n",
      "|    Palo Alto|\n",
      "|San Francisco|\n",
      "|     San Jose|\n",
      "| Redwood City|\n",
      "|Mountain View|\n",
      "+-------------+\n",
      "\n"
     ]
    }
   ],
   "source": [
    "# Show each zip code on the weather dataframe\n",
    "weather_df.select('zip_code').distinct().show()\n",
    "\n",
    "# Show each city on the station dataframe\n",
    "station_df.select('city').distinct().show()\n",
    "\n",
    "# After searching on the web, the following relation city-zip code is registered\n",
    "city_zip_code = {\n",
    "    'Palo Alto': '94301',\n",
    "    'San Francisco': '94107',\n",
    "    'San Jose': '95113',\n",
    "    'Redwood City': '94063',\n",
    "    'Mountain View': '94041'\n",
    "}"
   ]
  },
  {
   "cell_type": "markdown",
   "metadata": {},
   "source": [
    "Luego, añadimos la información faltante sobre los códigos postales en los dataframes sobre las estaciones."
   ]
  },
  {
   "cell_type": "code",
   "execution_count": 13,
   "metadata": {},
   "outputs": [
    {
     "name": "stdout",
     "output_type": "stream",
     "text": [
      "+---+--------------------+---------+-------------------+----------+--------+-----------------+--------+\n",
      "| id|                name|      lat|               long|dock_count|    city|installation_date|zip_code|\n",
      "+---+--------------------+---------+-------------------+----------+--------+-----------------+--------+\n",
      "|  2|San Jose Diridon ...|37.329732|-121.90178200000001|        27|San Jose|         8/6/2013|   95113|\n",
      "|  3|San Jose Civic Ce...|37.330698|        -121.888979|        15|San Jose|         8/5/2013|   95113|\n",
      "|  4|Santa Clara at Al...|37.333988|        -121.894902|        11|San Jose|         8/6/2013|   95113|\n",
      "|  5|    Adobe on Almaden|37.331415|          -121.8932|        19|San Jose|         8/5/2013|   95113|\n",
      "|  8| San Salvador at 1st|37.330165|-121.88583100000001|        15|San Jose|         8/5/2013|   95113|\n",
      "+---+--------------------+---------+-------------------+----------+--------+-----------------+--------+\n",
      "only showing top 5 rows\n",
      "\n"
     ]
    }
   ],
   "source": [
    "# Define function returning a zip code, given a city name\n",
    "def getZipCode(city):\n",
    "    return city_zip_code[city]\n",
    "\n",
    "getZipCodeUdf = udf(getZipCode) # Spark UserDefinedFunction\n",
    "# Add zip code column on station dataframe\n",
    "station_zipcode_df = station_df.withColumn('zip_code', getZipCodeUdf(station_df.city))\n",
    "station_zipcode_df.sample(0.3).show(5)"
   ]
  },
  {
   "cell_type": "code",
   "execution_count": 14,
   "metadata": {},
   "outputs": [
    {
     "name": "stdout",
     "output_type": "stream",
     "text": [
      "+----------+----------------+------------------+--------+-------+----------------+\n",
      "|start_date|start_station_id|start_station_name|zip_code|n_trips|n_trips_category|\n",
      "+----------+----------------+------------------+--------+-------+----------------+\n",
      "|2013-08-29|              13|     St James Park|   95113|      4|             Low|\n",
      "+----------+----------------+------------------+--------+-------+----------------+\n",
      "only showing top 1 row\n",
      "\n"
     ]
    }
   ],
   "source": [
    "# Joining station and trips_perDay_perStation_classified_df to add zip code\n",
    "trips_perDay_perStation_classified_zipcode_df = \\\n",
    "trips_perDay_perStation_classified_df.join(station_zipcode_df, \\\n",
    "                                           trips_perDay_perStation_classified_df.start_station_id == station_zipcode_df.id) \\\n",
    ".select('start_date', 'start_station_id', 'start_station_name', 'zip_code', 'n_trips', 'n_trips_category')\n",
    "trips_perDay_perStation_classified_zipcode_df.show(1)"
   ]
  },
  {
   "cell_type": "markdown",
   "metadata": {},
   "source": [
    "Con esta información sobre los códigos postales en el dataframe sobre las estaciones y las los viajes por estación por día se posibilita la mezcla entre éste últimos y los datos sobre el tiempo atmosférico.\n",
    "\n",
    "Ahora, se creará un dataframe con sólo los datos meteorológicos relevantes, el cual mezclaremos con los datos de viajes por estación por día."
   ]
  },
  {
   "cell_type": "code",
   "execution_count": 15,
   "metadata": {},
   "outputs": [
    {
     "name": "stdout",
     "output_type": "stream",
     "text": [
      "+-----------------+\n",
      "|           events|\n",
      "+-----------------+\n",
      "|             null|\n",
      "|              Fog|\n",
      "|             rain|\n",
      "|         Fog-Rain|\n",
      "|             Rain|\n",
      "|Rain-Thunderstorm|\n",
      "+-----------------+\n",
      "\n"
     ]
    }
   ],
   "source": [
    "# Check different 'events' on weather dataframe\n",
    "weather_df.select('events').distinct().show()"
   ]
  },
  {
   "cell_type": "code",
   "execution_count": 16,
   "metadata": {},
   "outputs": [
    {
     "name": "stdout",
     "output_type": "stream",
     "text": [
      "+-----------------+\n",
      "|           events|\n",
      "+-----------------+\n",
      "|              Fog|\n",
      "|         Fog-Rain|\n",
      "|             Rain|\n",
      "|Rain-Thunderstorm|\n",
      "|           Normal|\n",
      "+-----------------+\n",
      "\n"
     ]
    }
   ],
   "source": [
    "# Unify events and mark nulls as 'Normal'\n",
    "def unifyEvents(event):\n",
    "    if (event == None):\n",
    "        return 'Normal'\n",
    "    if (event == 'rain'):\n",
    "        return 'Rain'\n",
    "        \n",
    "    return event\n",
    "\n",
    "unifyEventsUdf = udf(unifyEvents) # Spark UserDefinedFunction\n",
    "weather_events_df = weather_df.withColumn('events', unifyEventsUdf(weather_df.events))\n",
    "weather_events_df.select('events').distinct().show()"
   ]
  },
  {
   "cell_type": "code",
   "execution_count": 17,
   "metadata": {},
   "outputs": [
    {
     "name": "stdout",
     "output_type": "stream",
     "text": [
      "+----------+------------------+----------------+-------------+------------------------------+---------------------+-------------------+--------------------+-----------+------+----------------+--------+\n",
      "|      date|mean_temperature_f|mean_dew_point_f|mean_humidity|mean_sea_level_pressure_inches|mean_visibility_miles|mean_wind_speed_mph|precipitation_inches|cloud_cover|events|wind_dir_degrees|zip_code|\n",
      "+----------+------------------+----------------+-------------+------------------------------+---------------------+-------------------+--------------------+-----------+------+----------------+--------+\n",
      "|2013-08-29|              68.0|            58.0|         75.0|                         30.02|                 10.0|               11.0|                   0|        4.0|Normal|           286.0|   94107|\n",
      "|2013-08-30|              69.0|            58.0|         70.0|                          30.0|                 10.0|               13.0|                   0|        2.0|Normal|           291.0|   94107|\n",
      "|2013-08-31|              64.0|            56.0|         75.0|                         29.96|                 10.0|               15.0|                   0|        4.0|Normal|           284.0|   94107|\n",
      "+----------+------------------+----------------+-------------+------------------------------+---------------------+-------------------+--------------------+-----------+------+----------------+--------+\n",
      "only showing top 3 rows\n",
      "\n"
     ]
    }
   ],
   "source": [
    "# Create dataframe excluding not relevant columns on weather datafame\n",
    "weather_simplified_df = weather_events_df.select('date', 'mean_temperature_f', 'mean_dew_point_f', 'mean_humidity', \\\n",
    "                                         'mean_sea_level_pressure_inches', 'mean_visibility_miles', \\\n",
    "                                         'mean_wind_speed_mph', 'precipitation_inches', 'cloud_cover', \\\n",
    "                                         'events', 'wind_dir_degrees', 'zip_code') \\\n",
    ".withColumn('date', to_timestamp(weather_events_df.date, 'MM/dd/yyyy').cast('date')) # Parsing date properly\n",
    "weather_simplified_df.show(3)"
   ]
  },
  {
   "cell_type": "code",
   "execution_count": 18,
   "metadata": {},
   "outputs": [
    {
     "name": "stdout",
     "output_type": "stream",
     "text": [
      "1\n"
     ]
    }
   ],
   "source": [
    "from pyspark.sql import Row\n",
    "\n",
    "# Checking join is possible: only one weather entry per trip entry\n",
    "sample_trip_row = trips_perDay_perStation_classified_zipcode_df.sample(0.1).head(1)[0].asDict()\n",
    "\n",
    "print weather_simplified_df.where(weather_simplified_df.date == sample_trip_row['start_date']) \\\n",
    ".where(weather_simplified_df.zip_code == sample_trip_row['zip_code']).count()"
   ]
  },
  {
   "cell_type": "code",
   "execution_count": 19,
   "metadata": {},
   "outputs": [
    {
     "name": "stdout",
     "output_type": "stream",
     "text": [
      "+----------------+------------------+--------+-------+----------------+----------+------------------+----------------+-------------+------------------------------+---------------------+-------------------+--------------------+-----------+------+----------------+--------+\n",
      "|start_station_id|start_station_name|zip_code|n_trips|n_trips_category|      date|mean_temperature_f|mean_dew_point_f|mean_humidity|mean_sea_level_pressure_inches|mean_visibility_miles|mean_wind_speed_mph|precipitation_inches|cloud_cover|events|wind_dir_degrees|zip_code|\n",
      "+----------------+------------------+--------+-------+----------------+----------+------------------+----------------+-------------+------------------------------+---------------------+-------------------+--------------------+-----------+------+----------------+--------+\n",
      "|              13|     St James Park|   95113|      4|             Low|2013-08-29|              72.0|            61.0|         69.0|                         30.02|                 10.0|                7.0|                   0|        4.0|Normal|           320.0|   95113|\n",
      "+----------------+------------------+--------+-------+----------------+----------+------------------+----------------+-------------+------------------------------+---------------------+-------------------+--------------------+-----------+------+----------------+--------+\n",
      "only showing top 1 row\n",
      "\n"
     ]
    }
   ],
   "source": [
    "# Join weather and trips per station per day dataframes\n",
    "trips_weather_df = trips_perDay_perStation_classified_zipcode_df.join(weather_simplified_df, \\\n",
    "    (trips_perDay_perStation_classified_zipcode_df.start_date == weather_simplified_df.date) & \\\n",
    "    (trips_perDay_perStation_classified_zipcode_df.zip_code == weather_simplified_df.zip_code)) \\\n",
    "    .drop('start_date', 'weather_simplified_df.zip_code')\n",
    "    \n",
    "trips_weather_df.sample(0.7).show(1)"
   ]
  },
  {
   "cell_type": "markdown",
   "metadata": {},
   "source": [
    "Una vez se han preparado los datos necesarios en un mismo dataframe, se debe seleccionar del mismo las variables que serán influyentes en la creación de la agrupación, que se realizará mediante el algoritmo de K-Means. Al utilizar este algoritmo, se debe evitar el uso de variables categóricas, puesto que funciona mejor si sólo procesa valores cuantitativos. Para ello, se crea una copia del dataframe recién obtenido incluyendo solamente las variables cuantitativas."
   ]
  },
  {
   "cell_type": "code",
   "execution_count": 20,
   "metadata": {},
   "outputs": [],
   "source": [
    "# Feature columns\n",
    "feature_cols = ['mean_temperature_f', 'mean_dew_point_f', 'mean_humidity', \\\n",
    "                                                 'mean_sea_level_pressure_inches', 'mean_visibility_miles', \\\n",
    "                                                 'mean_wind_speed_mph', 'precipitation_inches', 'cloud_cover', \\\n",
    "                                                 'wind_dir_degrees', 'n_trips']\n",
    "\n",
    "# Create a dataframe only with numeric variables\n",
    "trips_weather_numeric_df = trips_weather_df.select(feature_cols)\n",
    "trips_weather_kmeans_df = trips_weather_numeric_df\n",
    "\n",
    "# Convert all variables to float type\n",
    "for col in trips_weather_numeric_df.columns:\n",
    "    if col in feature_cols:\n",
    "        trips_weather_kmeans_df = trips_weather_kmeans_df.withColumn(col, trips_weather_kmeans_df[col].cast('float'))"
   ]
  },
  {
   "cell_type": "markdown",
   "metadata": {},
   "source": [
    "Luego, se obtiene el número óptimo de clusters `K` por el método del \"Elbow\":"
   ]
  },
  {
   "cell_type": "code",
   "execution_count": 21,
   "metadata": {},
   "outputs": [],
   "source": [
    "from pyspark.ml.feature import VectorAssembler\n",
    "from pyspark.ml.clustering import KMeans\n",
    "\n",
    "# Create a VectorAssembler with the feature columns and transform the dataframe\n",
    "vecAssembler = VectorAssembler(inputCols=feature_cols, outputCol='features')\n",
    "df_kmeans = vecAssembler.transform(trips_weather_kmeans_df.na.drop()).select('features')\n",
    "\n",
    "# Get the best K value\n",
    "cost = np.zeros(20)\n",
    "for k in range(2,20):\n",
    "    kmeans = KMeans().setK(k).setFeaturesCol('features')\n",
    "    model = kmeans.fit(df_kmeans.sample(False, 0.1, seed=24))\n",
    "    cost[k] = model.computeCost(df_kmeans)"
   ]
  },
  {
   "cell_type": "code",
   "execution_count": 22,
   "metadata": {},
   "outputs": [
    {
     "data": {
      "text/plain": [
       "Text(0,0.5,u'cost')"
      ]
     },
     "execution_count": 22,
     "metadata": {},
     "output_type": "execute_result"
    },
    {
     "data": {
      "image/png": "[encoded data removed]",
      "text/plain": [
       "<matplotlib.figure.Figure at 0xe880320>"
      ]
     },
     "metadata": {},
     "output_type": "display_data"
    }
   ],
   "source": [
    "import matplotlib.pyplot as plt    \n",
    "\n",
    "%matplotlib inline\n",
    "\n",
    "# Show K values on a plot\n",
    "fig, ax = plt.subplots(1, 1, figsize=(8,6))\n",
    "ax.plot(range(2,20), cost[2:20])\n",
    "ax.set_xlabel('k')\n",
    "ax.set_ylabel('cost')"
   ]
  },
  {
   "cell_type": "markdown",
   "metadata": {},
   "source": [
    "Se observa que la variación del coste disminuye a partir de `K = 11`, por lo que tomaremos este valor para crear el modelo. Esto significa que se agruparán los datos en 11 clústers, de la siguiente manera:"
   ]
  },
  {
   "cell_type": "code",
   "execution_count": 23,
   "metadata": {},
   "outputs": [],
   "source": [
    "# Apply K-Means with k = 11\n",
    "k = 11\n",
    "final_kmeans = KMeans().setK(k).setFeaturesCol('features')\n",
    "final_model = final_kmeans.fit(df_kmeans)\n",
    "\n",
    "# Get cluster centers\n",
    "centers = final_model.clusterCenters()"
   ]
  }
 ],
 "metadata": {
  "kernelspec": {
   "display_name": "Python 2",
   "language": "python",
   "name": "python2"
  },
  "language_info": {
   "codemirror_mode": {
    "name": "ipython",
    "version": 2
   },
   "file_extension": ".py",
   "mimetype": "text/x-python",
   "name": "python",
   "nbconvert_exporter": "python",
   "pygments_lexer": "ipython2",
   "version": "2.7.14"
  }
 },
 "nbformat": 4,
 "nbformat_minor": 2
}
