{
 "cells": [
  {
   "cell_type": "markdown",
   "metadata": {},
   "source": [
    "# Proyecto Fin de Máster - Máster en Big Data y Business Analytics V Edición\n",
    "# Big Data International Campus - Universidad Europea Miguel de Cervantes\n",
    "\n",
    "### *Eliasib Jesús García Martín*\n",
    "---"
   ]
  },
  {
   "cell_type": "markdown",
   "metadata": {},
   "source": [
    "# 1. Introducción\n",
    "\n",
    "El propósito de este proyecto es el de crear un producto de datos que sigan las metodologías de análisis de datos que se han impartido a lo largo de este máster. \n",
    "\n",
    "Para ello, se ha propuesto como conjunto de datos (en adelante, dataset) sobre los que aplicar dicho análisis el conjunto sobre datos de uso de un sistema de alquiler de bicicletas en el área de la Bahía de San Francisco (SF Bay Area Bike Share - https://www.kaggle.com/benhamner/sf-bay-area-bike-share).\n",
    "\n",
    "En cuanto al análisis a realizar, se centrará en desarrollar, utilizando las metodologías más adecuadas, los siguientes puntos clave:\n",
    "* Investigar la influencia del tiempo atmosférico en los viajes en bicicletas registrados en el dataset.\n",
    "* Reconocer las variaciones en los patrones de los viajes registrados en función del momento del día y de los días de la semana en los que se producen.\n",
    "* **/\\*  TODO: Encontrar una comercialización para el modelo predictivo. \\*/**"
   ]
  },
  {
   "cell_type": "markdown",
   "metadata": {},
   "source": [
    "# 2. Carga de los datos y análisis descriptivo\n",
    "\n",
    "El dataset sobre el que se basa este proyecto está compuesto por cuatro registros de datos, en forma de ficheros CSV (Comma Separated Values). La información contenida en estos cuatro ficheros está interrelacionada, por lo que la unión de todos ellos conforma el conjunto completo de los datos.\n",
    "\n",
    "Los ficheros de los que se compone el dataset son:\n",
    "* **station.csv:** En este fichero se listan las estaciones donde los usuarios pueden alquilar y/o depositar las bicicletas. Las columas para cada registro son:\n",
    "    * **id** - Identificador del registro\n",
    "    * **name** -  Nombre de la estación\n",
    "    * **lat** - Latitud de la ubicación de la estación\n",
    "    * **lon** - Longitud de la ubicación de la estación\n",
    "    * **dock_count** - Número de plazas de bicicletas que puede alojar la estación\n",
    "    * **city** - Ciudad donde se encuentra la estación\n",
    "    * **installation_date** - Fecha de instalación de la estación\n",
    "\n",
    "\n",
    "* **weather.csv:** En este fichero se listan los datos del tiempo atmosférico registrados diariamente. Las columnas para cada registro son:\n",
    "    * **date** - Fecha del registro\n",
    "    * **max_temperature_f** - Temperatura máxima en grados Fahrenheit\n",
    "    * **mean_temperature_f** - Temperatura media en grados Fahrenheit\n",
    "    * **min_temperature_f** - Temperatura mínima en grados Fahrenheit\n",
    "    * **max_dew_point_f** - Temperatura máxima de rocío en grados Fahrenheit\n",
    "    * **mean_dew_point_f** - Temperatura media de rocío en grados Fahrenheit\n",
    "    * **min_dew_point_f** - Temperatura mínima de rocío en grados Fahrenheit\n",
    "    * **max_humidity** - Humedad máxima\n",
    "    * **mean_humidity** - Humedad media\n",
    "    * **min_humidity** - Humedad mínima\n",
    "    * **max_sea_level_pressure_inches** - Presión atmosférica máxima a nivel del mar en pulgadas de mercurio\n",
    "    * **mean_sea_level_pressure_inches** - Presión atmosférica media a nivel del mar en pulgadas de mercurio\n",
    "    * **min_sea_level_pressure_inches** - Presión atmosférica mínima a nivel del mar en pulgadas de mercurio\n",
    "    * **max_visibility_miles** - Visibilidad máxima en millas\n",
    "    * **mean_visibility_miles** - Visibilidad media en millas\n",
    "    * **min_visibility_miles** - Visibilidad mínima en millas\n",
    "    * **max_wind_speed_mph** - Velocidad máxima del viento en millas por hora\n",
    "    * **mean_wind_speed_mph** - Velocidad media del viento en millas por hora\n",
    "    * **min_wind_speed_mph** - Velocidad mínima del viento en millas por hora\n",
    "    * **precipitation_inches** - Precipitaciones en pulgadas\n",
    "    * **cloud_cover** - Nubosidad en octas\n",
    "    * **events** - Eventos atmosféricos (lluvia, niebla, tormenta...)\n",
    "    * **wind_dir_degrees** - Dirección del viento en grados\n",
    "    * **zip_code** - Código postal de la localización del registro\n",
    "\n",
    "\n",
    "* **trip.csv:** En este fichero se listan los viajes en bicicleta registrados. Las columnas para cada registro son:\n",
    "    * **id** - Identificador del registro\n",
    "    * **duration** - Duración del viaje en segundos\n",
    "    * **start_date** - Fecha y hora de inicio del viaje\n",
    "    * **start_station_name** - Nombre de la estación donde se inició el viaje\n",
    "    * **start_station_id** - Identificador de la estación donde se inició el viaje\n",
    "    * **end_date** - Fecha y hora de finalización del viaje\n",
    "    * **end_station_name** - Nombre de la estación donde se finalizó el viaje\n",
    "    * **end_station_id** - Identificador de la estación donde se finalizó el viaje\n",
    "    * **bike_id** - Identificador de la bicicleta utilizada para el viaje\n",
    "\n",
    "\n",
    "* **status.csv:** En este fichero se listan registros por minuto del estado de las estaciones. Las columnas para cada registro son:\n",
    "    * **station_id** - Identificador de la estación a la que se refiere el registro\n",
    "    * **bikes_available** - Número de bicicletas disponibles\n",
    "    * **docks_available** - Número de plazas de estacionamiento para bicicletas disponibles\n",
    "    * **time** - Fecha y hora del registro\n",
    "    \n",
    "\n"
   ]
  }
 ],
 "metadata": {
  "kernelspec": {
   "display_name": "Python 2",
   "language": "python",
   "name": "python2"
  },
  "language_info": {
   "codemirror_mode": {
    "name": "ipython",
    "version": 2
   },
   "file_extension": ".py",
   "mimetype": "text/x-python",
   "name": "python",
   "nbconvert_exporter": "python",
   "pygments_lexer": "ipython2",
   "version": "2.7.14"
  }
 },
 "nbformat": 4,
 "nbformat_minor": 2
}
