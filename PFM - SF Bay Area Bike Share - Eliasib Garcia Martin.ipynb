{
 "cells": [
  {
   "cell_type": "markdown",
   "metadata": {},
   "source": [
    "# Proyecto Fin de Máster - Máster en Big Data y Business Analytics V Edición\n",
    "# Big Data International Campus - Universidad Europea Miguel de Cervantes\n",
    "\n",
    "### *Eliasib Jesús García Martín*\n",
    "\n",
    "---\n",
    "\n",
    "# 1. Introducción\n",
    "\n",
    "El propósito de este proyecto es el de crear un producto de datos que sigan las metodologías de análisis de datos que se han impartido a lo largo de este máster. \n",
    "\n",
    "Para ello, se ha propuesto como conjunto de datos (en adelante, dataset) sobre los que aplicar dicho análisis el conjunto sobre datos de uso de un sistema de alquiler de bicicletas en el área de la Bahía de San Francisco (SF Bay Area Bike Share - https://www.kaggle.com/benhamner/sf-bay-area-bike-share).\n",
    "\n",
    "En cuanto al análisis a realizar, se centrará en desarrollar, utilizando las metodologías más adecuadas, los siguientes puntos clave:\n",
    "* Investigar la influencia del tiempo atmosférico en los viajes en bicicletas registrados en el dataset.\n",
    "* Reconocer las variaciones en los patrones de los viajes registrados en función del momento del día y de los días de la semana en los que se producen.\n",
    "* **/\\*  TODO: Encontrar una comercialización para el modelo predictivo. \\*/**\n"
   ]
  }
 ],
 "metadata": {
  "kernelspec": {
   "display_name": "Python 2",
   "language": "python",
   "name": "python2"
  },
  "language_info": {
   "codemirror_mode": {
    "name": "ipython",
    "version": 2
   },
   "file_extension": ".py",
   "mimetype": "text/x-python",
   "name": "python",
   "nbconvert_exporter": "python",
   "pygments_lexer": "ipython2",
   "version": "2.7.14"
  }
 },
 "nbformat": 4,
 "nbformat_minor": 2
}
