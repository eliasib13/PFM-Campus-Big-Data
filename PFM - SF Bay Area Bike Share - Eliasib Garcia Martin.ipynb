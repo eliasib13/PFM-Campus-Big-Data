{
 "cells": [
  {
   "cell_type": "markdown",
   "metadata": {},
   "source": [
    "# Proyecto Fin de Máster - Máster en Big Data y Business Analytics V Edición\n",
    "# Big Data International Campus - Universidad Europea Miguel de Cervantes\n",
    "\n",
    "### *Eliasib Jesús García Martín*\n",
    "\n",
    "---\n",
    "\n",
    "# 1. Introducción\n",
    "\n"
   ]
  }
 ],
 "metadata": {
  "kernelspec": {
   "display_name": "Python 2",
   "language": "python",
   "name": "python2"
  },
  "language_info": {
   "codemirror_mode": {
    "name": "ipython",
    "version": 2
   },
   "file_extension": ".py",
   "mimetype": "text/x-python",
   "name": "python",
   "nbconvert_exporter": "python",
   "pygments_lexer": "ipython2",
   "version": "2.7.14"
  }
 },
 "nbformat": 4,
 "nbformat_minor": 2
}
